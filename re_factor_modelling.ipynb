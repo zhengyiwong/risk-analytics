{
 "cells": [
  {
   "cell_type": "code",
   "execution_count": 176,
   "metadata": {},
   "outputs": [],
   "source": [
    "import pandas as pd\n",
    "import numpy as np"
   ]
  },
  {
   "cell_type": "markdown",
   "metadata": {},
   "source": [
    "Supply:\n",
    "```\n",
    "DATE\tDate\n",
    "PERMIT\tNew Privately-Owned Housing Units Authorized in Permit-Issuing Places: Total Units (Thousands of Units, Seasonally Adjusted Annual Rate)\n",
    "MSACSR\tMonthly Supply of New Houses in the United States (Seasonally Adjusted)\n",
    "TLRESCONS\tTotal Construction Spending: Residential in the United States (Millions of Dollars, Seasonally Adjusted Annual Rate)\n",
    "EVACANTUSQ176N\tHousing Inventory Estimate: Vacant Housing Units in the United States (Thousands of Units, Not Seasonally Adjusted)\n",
    "CSUSHPISA\tS&P/Case-Shiller U.S. National Home Price Index (Index Jan 2000=100, Seasonally Adjusted)\n",
    "```\n",
    "Demand:\n",
    "```\n",
    "DATE\tDate\n",
    "INTDSRUSM193N\tInterest Rates, Discount Rate for United States (Billions of Dollars, Seasonally Adjusted Annual Rate)\n",
    "UMCSENT\tUniversity of Michigan: Consumer Sentiment\n",
    "GDP\tGross Domestic Product (Billions of Dollars, Seasonally Adjusted Annual Rate)\n",
    "MORTGAGE30US\t30-Year Fixed Rate Mortgage Average in the United States (Percent, Not Seasonally Adjusted)\n",
    "CSUSHPISA\tS&P/Case-Shiller U.S. National Home Price Index (Index Jan 2000=100, Seasonally Adjusted)\n",
    "MSPUS\tMedian Sales Price of Houses Sold for the United States (Not Seasonally Adjusted)\n",
    "```"
   ]
  },
  {
   "cell_type": "code",
   "execution_count": 177,
   "metadata": {},
   "outputs": [],
   "source": [
    "supply = pd.read_csv(\"supply.csv\")\n",
    "demand = pd.read_csv(\"demand.csv\")\n",
    "supply['DATE'] = pd.to_datetime(supply['DATE'])\n",
    "demand['DATE'] = pd.to_datetime(demand['DATE'])\n",
    "demand['CSUSHPISA'] = pd.to_numeric(demand['CSUSHPISA'], errors='coerce')\n",
    "supply['CSUSHPISA'] = pd.to_numeric(supply['CSUSHPISA'], errors='coerce')"
   ]
  },
  {
   "cell_type": "markdown",
   "metadata": {},
   "source": [
    "### Assume HPI is taken as the y variable, or dependent variable, as an indicator of change in prices."
   ]
  },
  {
   "cell_type": "code",
   "execution_count": 178,
   "metadata": {},
   "outputs": [],
   "source": [
    "data = pd.merge(demand, supply, on=['DATE', 'CSUSHPISA'], how='inner')"
   ]
  },
  {
   "cell_type": "code",
   "execution_count": 179,
   "metadata": {},
   "outputs": [],
   "source": [
    "data = data.set_index('DATE')"
   ]
  },
  {
   "cell_type": "code",
   "execution_count": 180,
   "metadata": {},
   "outputs": [],
   "source": [
    "data['INTDSRUSM193N'] = data['INTDSRUSM193N'].fillna(data['INTDSRUSM193N'].mean())"
   ]
  },
  {
   "cell_type": "code",
   "execution_count": 181,
   "metadata": {},
   "outputs": [],
   "source": [
    "# Assuming 'data' is your DataFrame\n",
    "columns_to_change = ['CSUSHPISA', 'UMCSENT', 'MSPUS', 'GDP', 'PERMIT', 'TLRESCONS', 'EVACANTUSQ176N']\n",
    "\n",
    "# Convert selected columns to numeric\n",
    "data = data.apply(pd.to_numeric, errors='coerce')\n",
    "\n",
    "# Calculate the percentage change for selected columns\n",
    "# data[columns_to_change] = data[columns_to_change].pct_change()\n",
    "\n",
    "data[columns_to_change] = data[columns_to_change] / data[columns_to_change].shift(1)\n",
    "\n",
    "data[['MORTGAGE30US', 'INTDSRUSM193N', 'MSACSR']] = (data[['MORTGAGE30US', 'INTDSRUSM193N', 'MSACSR']] / 100)"
   ]
  },
  {
   "cell_type": "code",
   "execution_count": 182,
   "metadata": {},
   "outputs": [],
   "source": [
    "data = data.dropna()"
   ]
  },
  {
   "cell_type": "markdown",
   "metadata": {},
   "source": [
    "## Getting factor exposure"
   ]
  },
  {
   "cell_type": "code",
   "execution_count": 183,
   "metadata": {},
   "outputs": [],
   "source": [
    "from sklearn.linear_model import LinearRegression\n",
    "from sklearn.linear_model import BayesianRidge\n",
    "import pandas as pd\n",
    "from sklearn.metrics import r2_score"
   ]
  },
  {
   "cell_type": "markdown",
   "metadata": {},
   "source": [
    "### Linear Reg"
   ]
  },
  {
   "cell_type": "code",
   "execution_count": 184,
   "metadata": {},
   "outputs": [],
   "source": [
    "# Split data into features and target variable\n",
    "X = data.loc[:, data.columns != 'CSUSHPISA']\n",
    "y = data['CSUSHPISA']\n",
    "\n",
    "# Create and train the linear regression model\n",
    "model = LinearRegression()\n",
    "model.fit(X, y)\n",
    "\n",
    "# Get the coefficients (beta) of the linear regression model\n",
    "beta_coefficients = model.coef_"
   ]
  },
  {
   "cell_type": "code",
   "execution_count": 185,
   "metadata": {},
   "outputs": [
    {
     "data": {
      "text/plain": [
       "0.8026584026452003"
      ]
     },
     "execution_count": 185,
     "metadata": {},
     "output_type": "execute_result"
    }
   ],
   "source": [
    "# Calculate R-squared using r2_score function\n",
    "y_pred = model.predict(X)\n",
    "r_squared = r2_score(y, y_pred)\n",
    "r_squared"
   ]
  },
  {
   "cell_type": "code",
   "execution_count": 186,
   "metadata": {},
   "outputs": [],
   "source": [
    "factor_exposure = pd.DataFrame([beta_coefficients], columns=X.columns)"
   ]
  },
  {
   "cell_type": "code",
   "execution_count": 187,
   "metadata": {},
   "outputs": [
    {
     "data": {
      "text/html": [
       "<div>\n",
       "<style scoped>\n",
       "    .dataframe tbody tr th:only-of-type {\n",
       "        vertical-align: middle;\n",
       "    }\n",
       "\n",
       "    .dataframe tbody tr th {\n",
       "        vertical-align: top;\n",
       "    }\n",
       "\n",
       "    .dataframe thead th {\n",
       "        text-align: right;\n",
       "    }\n",
       "</style>\n",
       "<table border=\"1\" class=\"dataframe\">\n",
       "  <thead>\n",
       "    <tr style=\"text-align: right;\">\n",
       "      <th></th>\n",
       "      <th>MORTGAGE30US</th>\n",
       "      <th>UMCSENT</th>\n",
       "      <th>INTDSRUSM193N</th>\n",
       "      <th>MSPUS</th>\n",
       "      <th>GDP</th>\n",
       "      <th>MSACSR</th>\n",
       "      <th>PERMIT</th>\n",
       "      <th>TLRESCONS</th>\n",
       "      <th>EVACANTUSQ176N</th>\n",
       "    </tr>\n",
       "  </thead>\n",
       "  <tbody>\n",
       "    <tr>\n",
       "      <th>0</th>\n",
       "      <td>-0.281999</td>\n",
       "      <td>-0.038185</td>\n",
       "      <td>0.204399</td>\n",
       "      <td>0.144063</td>\n",
       "      <td>0.235189</td>\n",
       "      <td>-0.43347</td>\n",
       "      <td>-0.078955</td>\n",
       "      <td>0.207572</td>\n",
       "      <td>-0.010954</td>\n",
       "    </tr>\n",
       "  </tbody>\n",
       "</table>\n",
       "</div>"
      ],
      "text/plain": [
       "   MORTGAGE30US   UMCSENT  INTDSRUSM193N     MSPUS       GDP   MSACSR  \\\n",
       "0     -0.281999 -0.038185       0.204399  0.144063  0.235189 -0.43347   \n",
       "\n",
       "     PERMIT  TLRESCONS  EVACANTUSQ176N  \n",
       "0 -0.078955   0.207572       -0.010954  "
      ]
     },
     "execution_count": 187,
     "metadata": {},
     "output_type": "execute_result"
    }
   ],
   "source": [
    "factor_exposure"
   ]
  },
  {
   "cell_type": "markdown",
   "metadata": {},
   "source": [
    "## factor covariance"
   ]
  },
  {
   "cell_type": "code",
   "execution_count": 188,
   "metadata": {},
   "outputs": [],
   "source": [
    "factor_cov = X.cov()"
   ]
  },
  {
   "cell_type": "code",
   "execution_count": 189,
   "metadata": {},
   "outputs": [],
   "source": [
    "# Assume GDP drop by 10%\n",
    "target_shock = pd.DataFrame([-0.1], columns=['GDP'])"
   ]
  },
  {
   "cell_type": "markdown",
   "metadata": {},
   "source": [
    "### Gaussian propagation"
   ]
  },
  {
   "cell_type": "code",
   "execution_count": 190,
   "metadata": {},
   "outputs": [
    {
     "data": {
      "text/html": [
       "<div>\n",
       "<style scoped>\n",
       "    .dataframe tbody tr th:only-of-type {\n",
       "        vertical-align: middle;\n",
       "    }\n",
       "\n",
       "    .dataframe tbody tr th {\n",
       "        vertical-align: top;\n",
       "    }\n",
       "\n",
       "    .dataframe thead th {\n",
       "        text-align: right;\n",
       "    }\n",
       "</style>\n",
       "<table border=\"1\" class=\"dataframe\">\n",
       "  <thead>\n",
       "    <tr style=\"text-align: right;\">\n",
       "      <th></th>\n",
       "      <th>0</th>\n",
       "    </tr>\n",
       "  </thead>\n",
       "  <tbody>\n",
       "    <tr>\n",
       "      <th>0</th>\n",
       "      <td>0.000323</td>\n",
       "    </tr>\n",
       "  </tbody>\n",
       "</table>\n",
       "</div>"
      ],
      "text/plain": [
       "          0\n",
       "0  0.000323"
      ]
     },
     "execution_count": 190,
     "metadata": {},
     "output_type": "execute_result"
    }
   ],
   "source": [
    "factor_exposure.dot(factor_cov).dot(factor_exposure.T)"
   ]
  },
  {
   "cell_type": "code",
   "execution_count": null,
   "metadata": {},
   "outputs": [],
   "source": []
  }
 ],
 "metadata": {
  "kernelspec": {
   "display_name": "Python 3 (ipykernel)",
   "language": "python",
   "name": "python3"
  },
  "language_info": {
   "codemirror_mode": {
    "name": "ipython",
    "version": 3
   },
   "file_extension": ".py",
   "mimetype": "text/x-python",
   "name": "python",
   "nbconvert_exporter": "python",
   "pygments_lexer": "ipython3",
   "version": "3.7.7"
  }
 },
 "nbformat": 4,
 "nbformat_minor": 4
}
